{
 "cells": [
  {
   "cell_type": "code",
   "execution_count": null,
   "id": "62f6780c-6fc5-4242-a8d3-4351d1247242",
   "metadata": {},
   "outputs": [],
   "source": []
  }
 ],
 "metadata": {
  "kernelspec": {
   "display_name": "",
   "name": ""
  },
  "language_info": {
   "name": ""
  }
 },
 "nbformat": 4,
 "nbformat_minor": 5
}
