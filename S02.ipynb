{
 "cells": [
  {
   "cell_type": "code",
   "execution_count": 80,
   "id": "a1d8a0bb-9d2b-447c-a651-49b933cd66d3",
   "metadata": {},
   "outputs": [],
   "source": [
    "#Q1"
   ]
  },
  {
   "cell_type": "code",
   "execution_count": 81,
   "id": "262333a8-9fd1-4e78-b6ec-c28e77ff8ef8",
   "metadata": {},
   "outputs": [
    {
     "name": "stdout",
     "output_type": "stream",
     "text": [
      "Requirement already satisfied: mlflow in c:\\users\\a_farnoo\\appdata\\local\\programs\\python\\python312\\lib\\site-packages (2.22.0)\n",
      "Requirement already satisfied: mlflow-skinny==2.22.0 in c:\\users\\a_farnoo\\appdata\\local\\programs\\python\\python312\\lib\\site-packages (from mlflow) (2.22.0)\n",
      "Requirement already satisfied: Flask<4 in c:\\users\\a_farnoo\\appdata\\local\\programs\\python\\python312\\lib\\site-packages (from mlflow) (3.0.3)\n",
      "Requirement already satisfied: Jinja2<4,>=3.0 in c:\\users\\a_farnoo\\appdata\\local\\programs\\python\\python312\\lib\\site-packages (from mlflow) (3.1.4)\n",
      "Requirement already satisfied: alembic!=1.10.0,<2 in c:\\users\\a_farnoo\\appdata\\local\\programs\\python\\python312\\lib\\site-packages (from mlflow) (1.16.1)\n",
      "Requirement already satisfied: docker<8,>=4.0.0 in c:\\users\\a_farnoo\\appdata\\local\\programs\\python\\python312\\lib\\site-packages (from mlflow) (7.1.0)\n",
      "Requirement already satisfied: graphene<4 in c:\\users\\a_farnoo\\appdata\\local\\programs\\python\\python312\\lib\\site-packages (from mlflow) (3.4.3)\n",
      "Requirement already satisfied: markdown<4,>=3.3 in c:\\users\\a_farnoo\\appdata\\local\\programs\\python\\python312\\lib\\site-packages (from mlflow) (3.7)\n",
      "Requirement already satisfied: matplotlib<4 in c:\\users\\a_farnoo\\appdata\\local\\programs\\python\\python312\\lib\\site-packages (from mlflow) (3.9.2)\n",
      "Requirement already satisfied: numpy<3 in c:\\users\\a_farnoo\\appdata\\local\\programs\\python\\python312\\lib\\site-packages (from mlflow) (2.0.2)\n",
      "Requirement already satisfied: pandas<3 in c:\\users\\a_farnoo\\appdata\\local\\programs\\python\\python312\\lib\\site-packages (from mlflow) (2.2.3)\n",
      "Requirement already satisfied: pyarrow<20,>=4.0.0 in c:\\users\\a_farnoo\\appdata\\local\\programs\\python\\python312\\lib\\site-packages (from mlflow) (19.0.1)\n",
      "Requirement already satisfied: scikit-learn<2 in c:\\users\\a_farnoo\\appdata\\local\\programs\\python\\python312\\lib\\site-packages (from mlflow) (1.5.2)\n",
      "Requirement already satisfied: scipy<2 in c:\\users\\a_farnoo\\appdata\\local\\programs\\python\\python312\\lib\\site-packages (from mlflow) (1.14.1)\n",
      "Requirement already satisfied: sqlalchemy<3,>=1.4.0 in c:\\users\\a_farnoo\\appdata\\local\\programs\\python\\python312\\lib\\site-packages (from mlflow) (2.0.36)\n",
      "Requirement already satisfied: waitress<4 in c:\\users\\a_farnoo\\appdata\\local\\programs\\python\\python312\\lib\\site-packages (from mlflow) (3.0.1)\n",
      "Requirement already satisfied: cachetools<6,>=5.0.0 in c:\\users\\a_farnoo\\appdata\\local\\programs\\python\\python312\\lib\\site-packages (from mlflow-skinny==2.22.0->mlflow) (5.5.2)\n",
      "Requirement already satisfied: click<9,>=7.0 in c:\\users\\a_farnoo\\appdata\\local\\programs\\python\\python312\\lib\\site-packages (from mlflow-skinny==2.22.0->mlflow) (8.1.7)\n",
      "Requirement already satisfied: cloudpickle<4 in c:\\users\\a_farnoo\\appdata\\local\\programs\\python\\python312\\lib\\site-packages (from mlflow-skinny==2.22.0->mlflow) (3.1.1)\n",
      "Requirement already satisfied: databricks-sdk<1,>=0.20.0 in c:\\users\\a_farnoo\\appdata\\local\\programs\\python\\python312\\lib\\site-packages (from mlflow-skinny==2.22.0->mlflow) (0.55.0)\n",
      "Requirement already satisfied: fastapi<1 in c:\\users\\a_farnoo\\appdata\\local\\programs\\python\\python312\\lib\\site-packages (from mlflow-skinny==2.22.0->mlflow) (0.115.12)\n",
      "Requirement already satisfied: gitpython<4,>=3.1.9 in c:\\users\\a_farnoo\\appdata\\local\\programs\\python\\python312\\lib\\site-packages (from mlflow-skinny==2.22.0->mlflow) (3.1.44)\n",
      "Requirement already satisfied: importlib_metadata!=4.7.0,<9,>=3.7.0 in c:\\users\\a_farnoo\\appdata\\local\\programs\\python\\python312\\lib\\site-packages (from mlflow-skinny==2.22.0->mlflow) (8.6.1)\n",
      "Requirement already satisfied: opentelemetry-api<3,>=1.9.0 in c:\\users\\a_farnoo\\appdata\\local\\programs\\python\\python312\\lib\\site-packages (from mlflow-skinny==2.22.0->mlflow) (1.33.1)\n",
      "Requirement already satisfied: opentelemetry-sdk<3,>=1.9.0 in c:\\users\\a_farnoo\\appdata\\local\\programs\\python\\python312\\lib\\site-packages (from mlflow-skinny==2.22.0->mlflow) (1.33.1)\n",
      "Requirement already satisfied: packaging<25 in c:\\users\\a_farnoo\\appdata\\local\\programs\\python\\python312\\lib\\site-packages (from mlflow-skinny==2.22.0->mlflow) (24.1)\n",
      "Requirement already satisfied: protobuf<7,>=3.12.0 in c:\\users\\a_farnoo\\appdata\\local\\programs\\python\\python312\\lib\\site-packages (from mlflow-skinny==2.22.0->mlflow) (4.25.5)\n",
      "Requirement already satisfied: pydantic<3,>=1.10.8 in c:\\users\\a_farnoo\\appdata\\local\\programs\\python\\python312\\lib\\site-packages (from mlflow-skinny==2.22.0->mlflow) (2.11.5)\n",
      "Requirement already satisfied: pyyaml<7,>=5.1 in c:\\users\\a_farnoo\\appdata\\local\\programs\\python\\python312\\lib\\site-packages (from mlflow-skinny==2.22.0->mlflow) (6.0.2)\n",
      "Requirement already satisfied: requests<3,>=2.17.3 in c:\\users\\a_farnoo\\appdata\\local\\programs\\python\\python312\\lib\\site-packages (from mlflow-skinny==2.22.0->mlflow) (2.32.3)\n",
      "Requirement already satisfied: sqlparse<1,>=0.4.0 in c:\\users\\a_farnoo\\appdata\\local\\programs\\python\\python312\\lib\\site-packages (from mlflow-skinny==2.22.0->mlflow) (0.5.3)\n",
      "Requirement already satisfied: typing-extensions<5,>=4.0.0 in c:\\users\\a_farnoo\\appdata\\local\\programs\\python\\python312\\lib\\site-packages (from mlflow-skinny==2.22.0->mlflow) (4.12.2)\n",
      "Requirement already satisfied: uvicorn<1 in c:\\users\\a_farnoo\\appdata\\local\\programs\\python\\python312\\lib\\site-packages (from mlflow-skinny==2.22.0->mlflow) (0.34.2)\n",
      "Requirement already satisfied: Mako in c:\\users\\a_farnoo\\appdata\\local\\programs\\python\\python312\\lib\\site-packages (from alembic!=1.10.0,<2->mlflow) (1.3.10)\n",
      "Requirement already satisfied: pywin32>=304 in c:\\users\\a_farnoo\\appdata\\local\\programs\\python\\python312\\lib\\site-packages (from docker<8,>=4.0.0->mlflow) (306)\n",
      "Requirement already satisfied: urllib3>=1.26.0 in c:\\users\\a_farnoo\\appdata\\local\\programs\\python\\python312\\lib\\site-packages (from docker<8,>=4.0.0->mlflow) (2.2.3)\n",
      "Requirement already satisfied: Werkzeug>=3.0.0 in c:\\users\\a_farnoo\\appdata\\local\\programs\\python\\python312\\lib\\site-packages (from Flask<4->mlflow) (3.0.6)\n",
      "Requirement already satisfied: itsdangerous>=2.1.2 in c:\\users\\a_farnoo\\appdata\\local\\programs\\python\\python312\\lib\\site-packages (from Flask<4->mlflow) (2.2.0)\n",
      "Requirement already satisfied: blinker>=1.6.2 in c:\\users\\a_farnoo\\appdata\\local\\programs\\python\\python312\\lib\\site-packages (from Flask<4->mlflow) (1.8.2)\n",
      "Requirement already satisfied: graphql-core<3.3,>=3.1 in c:\\users\\a_farnoo\\appdata\\local\\programs\\python\\python312\\lib\\site-packages (from graphene<4->mlflow) (3.2.6)\n",
      "Requirement already satisfied: graphql-relay<3.3,>=3.1 in c:\\users\\a_farnoo\\appdata\\local\\programs\\python\\python312\\lib\\site-packages (from graphene<4->mlflow) (3.2.0)\n",
      "Requirement already satisfied: python-dateutil<3,>=2.7.0 in c:\\users\\a_farnoo\\appdata\\local\\programs\\python\\python312\\lib\\site-packages (from graphene<4->mlflow) (2.9.0.post0)\n",
      "Requirement already satisfied: MarkupSafe>=2.0 in c:\\users\\a_farnoo\\appdata\\local\\programs\\python\\python312\\lib\\site-packages (from Jinja2<4,>=3.0->mlflow) (2.1.5)\n",
      "Requirement already satisfied: contourpy>=1.0.1 in c:\\users\\a_farnoo\\appdata\\local\\programs\\python\\python312\\lib\\site-packages (from matplotlib<4->mlflow) (1.3.0)\n",
      "Requirement already satisfied: cycler>=0.10 in c:\\users\\a_farnoo\\appdata\\local\\programs\\python\\python312\\lib\\site-packages (from matplotlib<4->mlflow) (0.12.1)\n",
      "Requirement already satisfied: fonttools>=4.22.0 in c:\\users\\a_farnoo\\appdata\\local\\programs\\python\\python312\\lib\\site-packages (from matplotlib<4->mlflow) (4.54.1)\n",
      "Requirement already satisfied: kiwisolver>=1.3.1 in c:\\users\\a_farnoo\\appdata\\local\\programs\\python\\python312\\lib\\site-packages (from matplotlib<4->mlflow) (1.4.7)\n",
      "Requirement already satisfied: pillow>=8 in c:\\users\\a_farnoo\\appdata\\local\\programs\\python\\python312\\lib\\site-packages (from matplotlib<4->mlflow) (10.4.0)\n",
      "Requirement already satisfied: pyparsing>=2.3.1 in c:\\users\\a_farnoo\\appdata\\local\\programs\\python\\python312\\lib\\site-packages (from matplotlib<4->mlflow) (3.1.4)\n",
      "Requirement already satisfied: pytz>=2020.1 in c:\\users\\a_farnoo\\appdata\\local\\programs\\python\\python312\\lib\\site-packages (from pandas<3->mlflow) (2024.2)\n",
      "Requirement already satisfied: tzdata>=2022.7 in c:\\users\\a_farnoo\\appdata\\local\\programs\\python\\python312\\lib\\site-packages (from pandas<3->mlflow) (2024.2)\n",
      "Requirement already satisfied: joblib>=1.2.0 in c:\\users\\a_farnoo\\appdata\\local\\programs\\python\\python312\\lib\\site-packages (from scikit-learn<2->mlflow) (1.4.2)\n",
      "Requirement already satisfied: threadpoolctl>=3.1.0 in c:\\users\\a_farnoo\\appdata\\local\\programs\\python\\python312\\lib\\site-packages (from scikit-learn<2->mlflow) (3.5.0)\n",
      "Requirement already satisfied: greenlet!=0.4.17 in c:\\users\\a_farnoo\\appdata\\local\\programs\\python\\python312\\lib\\site-packages (from sqlalchemy<3,>=1.4.0->mlflow) (3.1.1)\n",
      "Requirement already satisfied: colorama in c:\\users\\a_farnoo\\appdata\\local\\programs\\python\\python312\\lib\\site-packages (from click<9,>=7.0->mlflow-skinny==2.22.0->mlflow) (0.4.6)\n",
      "Requirement already satisfied: google-auth~=2.0 in c:\\users\\a_farnoo\\appdata\\local\\programs\\python\\python312\\lib\\site-packages (from databricks-sdk<1,>=0.20.0->mlflow-skinny==2.22.0->mlflow) (2.40.2)\n",
      "Requirement already satisfied: starlette<0.47.0,>=0.40.0 in c:\\users\\a_farnoo\\appdata\\local\\programs\\python\\python312\\lib\\site-packages (from fastapi<1->mlflow-skinny==2.22.0->mlflow) (0.46.2)\n",
      "Requirement already satisfied: gitdb<5,>=4.0.1 in c:\\users\\a_farnoo\\appdata\\local\\programs\\python\\python312\\lib\\site-packages (from gitpython<4,>=3.1.9->mlflow-skinny==2.22.0->mlflow) (4.0.12)\n",
      "Requirement already satisfied: zipp>=3.20 in c:\\users\\a_farnoo\\appdata\\local\\programs\\python\\python312\\lib\\site-packages (from importlib_metadata!=4.7.0,<9,>=3.7.0->mlflow-skinny==2.22.0->mlflow) (3.22.0)\n",
      "Requirement already satisfied: deprecated>=1.2.6 in c:\\users\\a_farnoo\\appdata\\local\\programs\\python\\python312\\lib\\site-packages (from opentelemetry-api<3,>=1.9.0->mlflow-skinny==2.22.0->mlflow) (1.2.18)\n",
      "Requirement already satisfied: opentelemetry-semantic-conventions==0.54b1 in c:\\users\\a_farnoo\\appdata\\local\\programs\\python\\python312\\lib\\site-packages (from opentelemetry-sdk<3,>=1.9.0->mlflow-skinny==2.22.0->mlflow) (0.54b1)\n",
      "Requirement already satisfied: annotated-types>=0.6.0 in c:\\users\\a_farnoo\\appdata\\local\\programs\\python\\python312\\lib\\site-packages (from pydantic<3,>=1.10.8->mlflow-skinny==2.22.0->mlflow) (0.7.0)\n",
      "Requirement already satisfied: pydantic-core==2.33.2 in c:\\users\\a_farnoo\\appdata\\local\\programs\\python\\python312\\lib\\site-packages (from pydantic<3,>=1.10.8->mlflow-skinny==2.22.0->mlflow) (2.33.2)\n",
      "Requirement already satisfied: typing-inspection>=0.4.0 in c:\\users\\a_farnoo\\appdata\\local\\programs\\python\\python312\\lib\\site-packages (from pydantic<3,>=1.10.8->mlflow-skinny==2.22.0->mlflow) (0.4.1)\n",
      "Requirement already satisfied: six>=1.5 in c:\\users\\a_farnoo\\appdata\\local\\programs\\python\\python312\\lib\\site-packages (from python-dateutil<3,>=2.7.0->graphene<4->mlflow) (1.16.0)\n",
      "Requirement already satisfied: charset-normalizer<4,>=2 in c:\\users\\a_farnoo\\appdata\\local\\programs\\python\\python312\\lib\\site-packages (from requests<3,>=2.17.3->mlflow-skinny==2.22.0->mlflow) (3.3.2)\n",
      "Requirement already satisfied: idna<4,>=2.5 in c:\\users\\a_farnoo\\appdata\\local\\programs\\python\\python312\\lib\\site-packages (from requests<3,>=2.17.3->mlflow-skinny==2.22.0->mlflow) (3.10)\n",
      "Requirement already satisfied: certifi>=2017.4.17 in c:\\users\\a_farnoo\\appdata\\local\\programs\\python\\python312\\lib\\site-packages (from requests<3,>=2.17.3->mlflow-skinny==2.22.0->mlflow) (2024.8.30)\n",
      "Requirement already satisfied: h11>=0.8 in c:\\users\\a_farnoo\\appdata\\local\\programs\\python\\python312\\lib\\site-packages (from uvicorn<1->mlflow-skinny==2.22.0->mlflow) (0.14.0)\n",
      "Requirement already satisfied: wrapt<2,>=1.10 in c:\\users\\a_farnoo\\appdata\\local\\programs\\python\\python312\\lib\\site-packages (from deprecated>=1.2.6->opentelemetry-api<3,>=1.9.0->mlflow-skinny==2.22.0->mlflow) (1.17.0)\n",
      "Requirement already satisfied: smmap<6,>=3.0.1 in c:\\users\\a_farnoo\\appdata\\local\\programs\\python\\python312\\lib\\site-packages (from gitdb<5,>=4.0.1->gitpython<4,>=3.1.9->mlflow-skinny==2.22.0->mlflow) (5.0.2)\n",
      "Requirement already satisfied: pyasn1-modules>=0.2.1 in c:\\users\\a_farnoo\\appdata\\local\\programs\\python\\python312\\lib\\site-packages (from google-auth~=2.0->databricks-sdk<1,>=0.20.0->mlflow-skinny==2.22.0->mlflow) (0.4.2)\n",
      "Requirement already satisfied: rsa<5,>=3.1.4 in c:\\users\\a_farnoo\\appdata\\local\\programs\\python\\python312\\lib\\site-packages (from google-auth~=2.0->databricks-sdk<1,>=0.20.0->mlflow-skinny==2.22.0->mlflow) (4.9.1)\n",
      "Requirement already satisfied: anyio<5,>=3.6.2 in c:\\users\\a_farnoo\\appdata\\local\\programs\\python\\python312\\lib\\site-packages (from starlette<0.47.0,>=0.40.0->fastapi<1->mlflow-skinny==2.22.0->mlflow) (4.6.0)\n",
      "Requirement already satisfied: sniffio>=1.1 in c:\\users\\a_farnoo\\appdata\\local\\programs\\python\\python312\\lib\\site-packages (from anyio<5,>=3.6.2->starlette<0.47.0,>=0.40.0->fastapi<1->mlflow-skinny==2.22.0->mlflow) (1.3.1)\n",
      "Requirement already satisfied: pyasn1<0.7.0,>=0.6.1 in c:\\users\\a_farnoo\\appdata\\local\\programs\\python\\python312\\lib\\site-packages (from pyasn1-modules>=0.2.1->google-auth~=2.0->databricks-sdk<1,>=0.20.0->mlflow-skinny==2.22.0->mlflow) (0.6.1)\n"
     ]
    },
    {
     "name": "stderr",
     "output_type": "stream",
     "text": [
      "\n",
      "[notice] A new release of pip is available: 24.3.1 -> 25.1.1\n",
      "[notice] To update, run: python.exe -m pip install --upgrade pip\n"
     ]
    }
   ],
   "source": [
    "!pip install mlflow"
   ]
  },
  {
   "cell_type": "code",
   "execution_count": 82,
   "id": "f8f2fe7f-d6d1-4dc5-93eb-e68e1539eeb4",
   "metadata": {},
   "outputs": [
    {
     "name": "stdout",
     "output_type": "stream",
     "text": [
      "mlflow, version 2.22.0\n"
     ]
    }
   ],
   "source": [
    "!mlflow --version"
   ]
  },
  {
   "cell_type": "code",
   "execution_count": 83,
   "id": "0bbbd491-634d-42dd-b37b-ccd8fbbee27f",
   "metadata": {},
   "outputs": [],
   "source": [
    "#Q2"
   ]
  },
  {
   "cell_type": "code",
   "execution_count": 84,
   "id": "af9dd0fb-21d4-459a-a784-21664d02023d",
   "metadata": {},
   "outputs": [],
   "source": [
    "import pandas as pd\n",
    "from sklearn.feature_extraction import DictVectorizer\n",
    "import pickle\n",
    "from pathlib import Path"
   ]
  },
  {
   "cell_type": "code",
   "execution_count": 85,
   "id": "4d16297b-f081-4956-81e4-f6a360e5229a",
   "metadata": {},
   "outputs": [],
   "source": [
    "import os\n",
    "import pickle\n",
    "import click\n",
    "import pandas as pd\n",
    "from sklearn.feature_extraction import DictVectorizer"
   ]
  },
  {
   "cell_type": "code",
   "execution_count": 86,
   "id": "0cbbd9f0-960e-4cb7-bd50-858f94f3ebee",
   "metadata": {},
   "outputs": [],
   "source": [
    "!python preprocess_data.py --raw_data_path TAXI_DATA_FOLDER --dest_path output"
   ]
  },
  {
   "cell_type": "code",
   "execution_count": 87,
   "id": "f90d5e3c-fee1-4847-a5d3-181b44a04b04",
   "metadata": {},
   "outputs": [],
   "source": [
    "#Q3"
   ]
  },
  {
   "cell_type": "code",
   "execution_count": 88,
   "id": "60928aa9-3c4d-4eee-a571-5fccde189855",
   "metadata": {},
   "outputs": [],
   "source": [
    "import pickle\n",
    "import mlflow\n",
    "import mlflow.sklearn\n",
    "from sklearn.ensemble import RandomForestRegressor\n",
    "from sklearn.metrics import mean_squared_error\n",
    "import numpy as np"
   ]
  },
  {
   "cell_type": "code",
   "execution_count": 89,
   "id": "8b2527bc-20be-4aa0-9ae9-08e41f520d3f",
   "metadata": {},
   "outputs": [],
   "source": [
    "# Load data\n",
    "with open(\"output/train.pkl\", \"rb\") as f_in:\n",
    "    X_train, y_train = pickle.load(f_in)\n",
    "\n",
    "with open(\"output/val.pkl\", \"rb\") as f_in:\n",
    "    X_val, y_val = pickle.load(f_in)\n",
    "\n",
    "with open(\"output/dv.pkl\", \"rb\") as f_in:\n",
    "    dv = pickle.load(f_in)"
   ]
  },
  {
   "cell_type": "code",
   "execution_count": 90,
   "id": "b73bbe4f-db29-47b6-ac29-6f093a27e9e2",
   "metadata": {},
   "outputs": [
    {
     "name": "stderr",
     "output_type": "stream",
     "text": [
      "C:\\Users\\a_farnoo\\AppData\\Local\\Programs\\Python\\Python312\\Lib\\site-packages\\sklearn\\metrics\\_regression.py:492: FutureWarning: 'squared' is deprecated in version 1.4 and will be removed in 1.6. To calculate the root mean squared error, use the function'root_mean_squared_error'.\n",
      "  warnings.warn(\n"
     ]
    }
   ],
   "source": [
    "# Autologging\n",
    "mlflow.sklearn.autolog()\n",
    "\n",
    "with mlflow.start_run():\n",
    "    rf = RandomForestRegressor(max_depth=10, random_state=0)\n",
    "    rf.fit(X_train, y_train)\n",
    "    y_pred = rf.predict(X_val)\n",
    "    rmse = mean_squared_error(y_val, y_pred, squared=False)\n"
   ]
  },
  {
   "cell_type": "code",
   "execution_count": 91,
   "id": "10c136d3-b276-4dae-96bf-b8e94f60c6b7",
   "metadata": {},
   "outputs": [
    {
     "name": "stdout",
     "output_type": "stream",
     "text": [
      "Validation RMSE: 5.43\n"
     ]
    }
   ],
   "source": [
    "print(f\"Validation RMSE: {rmse:.2f}\")"
   ]
  },
  {
   "cell_type": "code",
   "execution_count": 92,
   "id": "9c584f80-e2d3-48fe-a620-e06a35bdcf90",
   "metadata": {},
   "outputs": [],
   "source": [
    "#Q5"
   ]
  },
  {
   "cell_type": "code",
   "execution_count": 93,
   "id": "d2be37aa-85c2-435f-a54c-9ec2d010c0ca",
   "metadata": {},
   "outputs": [
    {
     "name": "stdout",
     "output_type": "stream",
     "text": [
      "Requirement already satisfied: hyperopt in c:\\users\\a_farnoo\\appdata\\local\\programs\\python\\python312\\lib\\site-packages (0.2.7)\n",
      "Requirement already satisfied: numpy in c:\\users\\a_farnoo\\appdata\\local\\programs\\python\\python312\\lib\\site-packages (from hyperopt) (2.0.2)\n",
      "Requirement already satisfied: scipy in c:\\users\\a_farnoo\\appdata\\local\\programs\\python\\python312\\lib\\site-packages (from hyperopt) (1.14.1)\n",
      "Requirement already satisfied: six in c:\\users\\a_farnoo\\appdata\\local\\programs\\python\\python312\\lib\\site-packages (from hyperopt) (1.16.0)\n",
      "Requirement already satisfied: networkx>=2.2 in c:\\users\\a_farnoo\\appdata\\local\\programs\\python\\python312\\lib\\site-packages (from hyperopt) (3.4.2)\n",
      "Requirement already satisfied: future in c:\\users\\a_farnoo\\appdata\\local\\programs\\python\\python312\\lib\\site-packages (from hyperopt) (1.0.0)\n",
      "Requirement already satisfied: tqdm in c:\\users\\a_farnoo\\appdata\\local\\programs\\python\\python312\\lib\\site-packages (from hyperopt) (4.67.1)\n",
      "Requirement already satisfied: cloudpickle in c:\\users\\a_farnoo\\appdata\\local\\programs\\python\\python312\\lib\\site-packages (from hyperopt) (3.1.1)\n",
      "Requirement already satisfied: py4j in c:\\users\\a_farnoo\\appdata\\local\\programs\\python\\python312\\lib\\site-packages (from hyperopt) (0.10.9.9)\n",
      "Requirement already satisfied: colorama in c:\\users\\a_farnoo\\appdata\\local\\programs\\python\\python312\\lib\\site-packages (from tqdm->hyperopt) (0.4.6)\n"
     ]
    },
    {
     "name": "stderr",
     "output_type": "stream",
     "text": [
      "\n",
      "[notice] A new release of pip is available: 24.3.1 -> 25.1.1\n",
      "[notice] To update, run: python.exe -m pip install --upgrade pip\n"
     ]
    }
   ],
   "source": [
    "!pip install hyperopt"
   ]
  },
  {
   "cell_type": "code",
   "execution_count": 94,
   "id": "5fd52825-0c69-4a52-be22-055df8e074b1",
   "metadata": {},
   "outputs": [
    {
     "name": "stdout",
     "output_type": "stream",
     "text": [
      "Requirement already satisfied: optuna in c:\\users\\a_farnoo\\appdata\\local\\programs\\python\\python312\\lib\\site-packages (4.3.0)\n",
      "Requirement already satisfied: alembic>=1.5.0 in c:\\users\\a_farnoo\\appdata\\local\\programs\\python\\python312\\lib\\site-packages (from optuna) (1.16.1)\n",
      "Requirement already satisfied: colorlog in c:\\users\\a_farnoo\\appdata\\local\\programs\\python\\python312\\lib\\site-packages (from optuna) (6.9.0)\n",
      "Requirement already satisfied: numpy in c:\\users\\a_farnoo\\appdata\\local\\programs\\python\\python312\\lib\\site-packages (from optuna) (2.0.2)\n",
      "Requirement already satisfied: packaging>=20.0 in c:\\users\\a_farnoo\\appdata\\local\\programs\\python\\python312\\lib\\site-packages (from optuna) (24.1)\n",
      "Requirement already satisfied: sqlalchemy>=1.4.2 in c:\\users\\a_farnoo\\appdata\\local\\programs\\python\\python312\\lib\\site-packages (from optuna) (2.0.36)\n",
      "Requirement already satisfied: tqdm in c:\\users\\a_farnoo\\appdata\\local\\programs\\python\\python312\\lib\\site-packages (from optuna) (4.67.1)\n",
      "Requirement already satisfied: PyYAML in c:\\users\\a_farnoo\\appdata\\local\\programs\\python\\python312\\lib\\site-packages (from optuna) (6.0.2)\n",
      "Requirement already satisfied: Mako in c:\\users\\a_farnoo\\appdata\\local\\programs\\python\\python312\\lib\\site-packages (from alembic>=1.5.0->optuna) (1.3.10)\n",
      "Requirement already satisfied: typing-extensions>=4.12 in c:\\users\\a_farnoo\\appdata\\local\\programs\\python\\python312\\lib\\site-packages (from alembic>=1.5.0->optuna) (4.12.2)\n",
      "Requirement already satisfied: greenlet!=0.4.17 in c:\\users\\a_farnoo\\appdata\\local\\programs\\python\\python312\\lib\\site-packages (from sqlalchemy>=1.4.2->optuna) (3.1.1)\n",
      "Requirement already satisfied: colorama in c:\\users\\a_farnoo\\appdata\\local\\programs\\python\\python312\\lib\\site-packages (from colorlog->optuna) (0.4.6)\n",
      "Requirement already satisfied: MarkupSafe>=0.9.2 in c:\\users\\a_farnoo\\appdata\\local\\programs\\python\\python312\\lib\\site-packages (from Mako->alembic>=1.5.0->optuna) (2.1.5)\n"
     ]
    },
    {
     "name": "stderr",
     "output_type": "stream",
     "text": [
      "\n",
      "[notice] A new release of pip is available: 24.3.1 -> 25.1.1\n",
      "[notice] To update, run: python.exe -m pip install --upgrade pip\n"
     ]
    }
   ],
   "source": [
    "!pip install optuna"
   ]
  },
  {
   "cell_type": "code",
   "execution_count": null,
   "id": "64086210-35c3-46b8-965f-8c338f440348",
   "metadata": {},
   "outputs": [],
   "source": [
    "!python hpo.py"
   ]
  },
  {
   "cell_type": "code",
   "execution_count": null,
   "id": "e4f6f4c5-899d-4118-b81f-dad83161c012",
   "metadata": {},
   "outputs": [],
   "source": [
    "#Q6"
   ]
  },
  {
   "cell_type": "code",
   "execution_count": 104,
   "id": "f427ebdb-cced-40de-b8db-97afe0fe8b0d",
   "metadata": {},
   "outputs": [
    {
     "name": "stdout",
     "output_type": "stream",
     "text": [
      "\n",
      "Found 0 HPO runs. Evaluating them...\n",
      "\n"
     ]
    },
    {
     "name": "stderr",
     "output_type": "stream",
     "text": [
      "Traceback (most recent call last):\n",
      "  File \"C:\\JUPYTER\\register_model.py\", line 107, in <module>\n",
      "    run_register_model()\n",
      "  File \"C:\\Users\\a_farnoo\\AppData\\Local\\Programs\\Python\\Python312\\Lib\\site-packages\\click\\core.py\", line 1157, in __call__\n",
      "    return self.main(*args, **kwargs)\n",
      "           ^^^^^^^^^^^^^^^^^^^^^^^^^^\n",
      "  File \"C:\\Users\\a_farnoo\\AppData\\Local\\Programs\\Python\\Python312\\Lib\\site-packages\\click\\core.py\", line 1078, in main\n",
      "    rv = self.invoke(ctx)\n",
      "         ^^^^^^^^^^^^^^^^\n",
      "  File \"C:\\Users\\a_farnoo\\AppData\\Local\\Programs\\Python\\Python312\\Lib\\site-packages\\click\\core.py\", line 1434, in invoke\n",
      "    return ctx.invoke(self.callback, **ctx.params)\n",
      "           ^^^^^^^^^^^^^^^^^^^^^^^^^^^^^^^^^^^^^^^\n",
      "  File \"C:\\Users\\a_farnoo\\AppData\\Local\\Programs\\Python\\Python312\\Lib\\site-packages\\click\\core.py\", line 783, in invoke\n",
      "    return __callback(*args, **kwargs)\n",
      "           ^^^^^^^^^^^^^^^^^^^^^^^^^^^\n",
      "  File \"C:\\JUPYTER\\register_model.py\", line 97, in run_register_model\n",
      "    raise RuntimeError(\"No valid run was found to register.\")\n",
      "RuntimeError: No valid run was found to register.\n"
     ]
    }
   ],
   "source": [
    "!python register_model.py"
   ]
  },
  {
   "cell_type": "code",
   "execution_count": null,
   "id": "1f6a0da1-3f75-4c92-b012-1c8d2a2067bf",
   "metadata": {},
   "outputs": [],
   "source": []
  }
 ],
 "metadata": {
  "kernelspec": {
   "display_name": "Python 3 (ipykernel)",
   "language": "python",
   "name": "python3"
  },
  "language_info": {
   "codemirror_mode": {
    "name": "ipython",
    "version": 3
   },
   "file_extension": ".py",
   "mimetype": "text/x-python",
   "name": "python",
   "nbconvert_exporter": "python",
   "pygments_lexer": "ipython3",
   "version": "3.12.6"
  }
 },
 "nbformat": 4,
 "nbformat_minor": 5
}
